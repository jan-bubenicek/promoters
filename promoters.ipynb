{
 "cells": [
  {
   "cell_type": "markdown",
   "metadata": {
    "papermill": {
     "duration": 0.014495,
     "end_time": "2020-11-29T11:21:29.685216",
     "exception": false,
     "start_time": "2020-11-29T11:21:29.670721",
     "status": "completed"
    },
    "tags": []
   },
   "source": [
    "# **Promotor sequence recognition**\n",
    "\n",
    "1. Read in fasta files - done\n",
    "2. Preprocess data\n",
    "3. Build model\n",
    "4. Test and iterate"
   ]
  },
  {
   "cell_type": "code",
   "execution_count": 1,
   "metadata": {
    "_execution_state": "idle",
    "_uuid": "051d70d956493feee0c6d64651c6a088724dca2a",
    "execution": {
     "iopub.execute_input": "2020-11-29T11:21:29.739139Z",
     "iopub.status.busy": "2020-11-29T11:21:29.736894Z",
     "iopub.status.idle": "2020-11-29T11:21:32.151142Z",
     "shell.execute_reply": "2020-11-29T11:21:32.149388Z"
    },
    "papermill": {
     "duration": 2.45321,
     "end_time": "2020-11-29T11:21:32.151334",
     "exception": false,
     "start_time": "2020-11-29T11:21:29.698124",
     "status": "completed"
    },
    "tags": []
   },
   "outputs": [
    {
     "name": "stderr",
     "output_type": "stream",
     "text": [
      "── \u001b[1mAttaching packages\u001b[22m ─────────────────────────────────────── tidyverse 1.3.0 ──\n",
      "\n",
      "\u001b[32m✔\u001b[39m \u001b[34mggplot2\u001b[39m 3.3.2     \u001b[32m✔\u001b[39m \u001b[34mpurrr  \u001b[39m 0.3.4\n",
      "\u001b[32m✔\u001b[39m \u001b[34mtibble \u001b[39m 3.0.4     \u001b[32m✔\u001b[39m \u001b[34mdplyr  \u001b[39m 1.0.2\n",
      "\u001b[32m✔\u001b[39m \u001b[34mtidyr  \u001b[39m 1.1.2     \u001b[32m✔\u001b[39m \u001b[34mstringr\u001b[39m 1.4.0\n",
      "\u001b[32m✔\u001b[39m \u001b[34mreadr  \u001b[39m 1.4.0     \u001b[32m✔\u001b[39m \u001b[34mforcats\u001b[39m 0.5.0\n",
      "\n",
      "── \u001b[1mConflicts\u001b[22m ────────────────────────────────────────── tidyverse_conflicts() ──\n",
      "\u001b[31m✖\u001b[39m \u001b[34mdplyr\u001b[39m::\u001b[32mfilter()\u001b[39m masks \u001b[34mstats\u001b[39m::filter()\n",
      "\u001b[31m✖\u001b[39m \u001b[34mdplyr\u001b[39m::\u001b[32mlag()\u001b[39m    masks \u001b[34mstats\u001b[39m::lag()\n",
      "\n",
      "\n",
      "Attaching package: ‘seqinr’\n",
      "\n",
      "\n",
      "The following object is masked from ‘package:dplyr’:\n",
      "\n",
      "    count\n",
      "\n",
      "\n"
     ]
    }
   ],
   "source": [
    "# libraries\n",
    "library(tidyverse) # metapackage of all tidyverse packages\n",
    "library(keras)\n",
    "library(tensorflow)\n",
    "library(tokenizers) # or vectorization??\n",
    "library(seqinr)  # for fasta files\n",
    "library(reticulate)"
   ]
  },
  {
   "cell_type": "markdown",
   "metadata": {
    "papermill": {
     "duration": 0.014322,
     "end_time": "2020-11-29T11:21:32.180305",
     "exception": false,
     "start_time": "2020-11-29T11:21:32.165983",
     "status": "completed"
    },
    "tags": []
   },
   "source": [
    "# Data downloading and transformation from fasta to txt format"
   ]
  },
  {
   "cell_type": "code",
   "execution_count": 2,
   "metadata": {
    "execution": {
     "iopub.execute_input": "2020-11-29T11:21:32.240406Z",
     "iopub.status.busy": "2020-11-29T11:21:32.213360Z",
     "iopub.status.idle": "2020-11-29T11:21:32.249065Z",
     "shell.execute_reply": "2020-11-29T11:21:32.247683Z"
    },
    "papermill": {
     "duration": 0.053792,
     "end_time": "2020-11-29T11:21:32.249184",
     "exception": false,
     "start_time": "2020-11-29T11:21:32.195392",
     "status": "completed"
    },
    "tags": []
   },
   "outputs": [],
   "source": [
    "# read.fasta https://www.rdocumentation.org/packages/seqinr/versions/4.2-4/topics/read.fasta"
   ]
  },
  {
   "cell_type": "code",
   "execution_count": 3,
   "metadata": {
    "execution": {
     "iopub.execute_input": "2020-11-29T11:21:32.283323Z",
     "iopub.status.busy": "2020-11-29T11:21:32.281775Z",
     "iopub.status.idle": "2020-11-29T11:21:32.292083Z",
     "shell.execute_reply": "2020-11-29T11:21:32.290674Z"
    },
    "papermill": {
     "duration": 0.028547,
     "end_time": "2020-11-29T11:21:32.292203",
     "exception": false,
     "start_time": "2020-11-29T11:21:32.263656",
     "status": "completed"
    },
    "tags": []
   },
   "outputs": [],
   "source": [
    "# read fasta files to directories\n",
    "#url <- \"https://raw.githubusercontent.com/simecek/dspracticum2020/master/lecture_08/assignment/e_coli_promoters/\"\n",
    "#datasets <- c(\"train\", \"valid\")\n",
    "#sets <- c(\"nonpromoters\", \"promoters\")\n",
    "\n",
    "#for(i in 1:length(datasets)){\n",
    "    # create train or validation directory\n",
    "#    dir.create(paste('../', datasets[i], sep = ''))\n",
    "#    for(j in 1:length(sets)){\n",
    "        # create promoter or nonpromoter directory\n",
    "#        dir.name <- paste('../', datasets[i], '/', sets[j], sep = '')\n",
    "#        dir.create(dir.name)\n",
    "        # path to the fasta file\n",
    "#        path <- paste(url, 'e_coli_', sets[j], '_', datasets[i], '.fa', sep = '')\n",
    "        # read fasta file\n",
    "#        x <- read.fasta(url(path))\n",
    "        \n",
    "#        for (k in 1:length(x)){\n",
    "            # create file for one sequence\n",
    "#            fileConn <- file(paste(dir.name, '/', getName(x[k]), '.txt', sep = ''))\n",
    "            # save the sequence to the file\n",
    "#            getSequence(x[[k]], as.string = T) %>% unlist() %>%\n",
    "#                writeLines(., fileConn)\n",
    "#            close(fileConn)  # close file\n",
    "#        }\n",
    "#    }\n",
    "#}\n",
    "\n"
   ]
  },
  {
   "cell_type": "code",
   "execution_count": 4,
   "metadata": {
    "execution": {
     "iopub.execute_input": "2020-11-29T11:21:32.326428Z",
     "iopub.status.busy": "2020-11-29T11:21:32.324647Z",
     "iopub.status.idle": "2020-11-29T11:21:39.093417Z",
     "shell.execute_reply": "2020-11-29T11:21:39.091550Z"
    },
    "papermill": {
     "duration": 6.786922,
     "end_time": "2020-11-29T11:21:39.093555",
     "exception": false,
     "start_time": "2020-11-29T11:21:32.306633",
     "status": "completed"
    },
    "tags": []
   },
   "outputs": [],
   "source": [
    "# alternative approach\n",
    "# read fasta files to dataframe\n",
    "\n",
    "url <- \"https://raw.githubusercontent.com/simecek/dspracticum2020/master/lecture_08/assignment/e_coli_promoters/\"\n",
    "sets <- c(\"nonpromoters\", \"promoters\")\n",
    "\n",
    "train_set <- c()\n",
    "label_train <- c()\n",
    "validation_set <- c()\n",
    "label_validation <- c()\n",
    "\n",
    "# preparation of train set\n",
    "for (j in 1:length(sets)){\n",
    "    # read fasta file\n",
    "    path <- paste(url, 'e_coli_', sets[j], '_train.fa', sep = '')\n",
    "    x <- read.fasta(url(path))\n",
    "    for (k in 1:length(x)){\n",
    "        # save the sequence\n",
    "        train_set <- c(train_set, paste(x[[k]], collapse = \" \"))\n",
    "        # save the label(promoter/non-promoter)\n",
    "        label_train <- c(label_train, sets[j])\n",
    "    }\n",
    "}\n",
    "\n",
    "# preparation of validation set\n",
    "for (j in 1:length(sets)){\n",
    "    # read fasta file\n",
    "    path <- paste(url, 'e_coli_', sets[j], '_valid.fa', sep = '')\n",
    "    x <- read.fasta(url(path))\n",
    "    for (k in 1:length(x)){\n",
    "        # save the sequence\n",
    "        validation_set <- c(validation_set, paste(x[[k]], collapse = \" \"))\n",
    "        # save the label(promoter/non-promoter)\n",
    "        label_validation <- c(label_validation, sets[j])\n",
    "    }\n",
    "}\n",
    "\n",
    "# convert both datasets to dataframes\n",
    "options(stringsAsFactors = FALSE)\n",
    "train_data <- data.frame(x = train_set, y = label_train)\n",
    "valid_data <- data.frame(x = validation_set, y = label_validation)"
   ]
  },
  {
   "cell_type": "raw",
   "metadata": {
    "papermill": {
     "duration": 0.014119,
     "end_time": "2020-11-29T11:21:39.122722",
     "exception": false,
     "start_time": "2020-11-29T11:21:39.108603",
     "status": "completed"
    },
    "tags": []
   },
   "source": [
    "Preprocessing"
   ]
  },
  {
   "cell_type": "code",
   "execution_count": 5,
   "metadata": {
    "execution": {
     "iopub.execute_input": "2020-11-29T11:21:39.155880Z",
     "iopub.status.busy": "2020-11-29T11:21:39.154331Z",
     "iopub.status.idle": "2020-11-29T11:21:39.630384Z",
     "shell.execute_reply": "2020-11-29T11:21:39.629107Z"
    },
    "papermill": {
     "duration": 0.493045,
     "end_time": "2020-11-29T11:21:39.630517",
     "exception": false,
     "start_time": "2020-11-29T11:21:39.137472",
     "status": "completed"
    },
    "tags": []
   },
   "outputs": [
    {
     "data": {
      "text/plain": [
       "   Min. 1st Qu.  Median    Mean 3rd Qu.    Max. \n",
       "    150     150     150     150     150     150 "
      ]
     },
     "metadata": {},
     "output_type": "display_data"
    }
   ],
   "source": [
    "train_data$x %>% \n",
    "  strsplit(\" \") %>% \n",
    "  sapply(length) %>% \n",
    "  summary()"
   ]
  },
  {
   "cell_type": "code",
   "execution_count": 6,
   "metadata": {
    "execution": {
     "iopub.execute_input": "2020-11-29T11:21:39.664212Z",
     "iopub.status.busy": "2020-11-29T11:21:39.662691Z",
     "iopub.status.idle": "2020-11-29T11:21:49.451503Z",
     "shell.execute_reply": "2020-11-29T11:21:49.449313Z"
    },
    "papermill": {
     "duration": 9.806139,
     "end_time": "2020-11-29T11:21:49.451639",
     "exception": false,
     "start_time": "2020-11-29T11:21:39.645500",
     "status": "completed"
    },
    "tags": []
   },
   "outputs": [],
   "source": [
    "num_words <- 4\n",
    "max_length <- 150\n",
    "text_vectorization <- layer_text_vectorization(\n",
    "  max_tokens = num_words, \n",
    "  output_sequence_length = max_length,\n",
    "  output_mode = \"int\"\n",
    ")\n",
    "\n",
    "text_vectorization %>% adapt(train_data$x)\n",
    "#text_vectorization(train_data$x[1])\n",
    "\n",
    "# z nejakeho dovodu nefunguje set_vocabulary(text_vectorization)\n",
    "# ani get_vocabulary(text_vectorization)\n",
    "# vypada ze jde o nejaky python problem komunikace pluginu https://github.com/tensorflow/tensorflow/pull/34529\n"
   ]
  },
  {
   "cell_type": "code",
   "execution_count": 7,
   "metadata": {
    "execution": {
     "iopub.execute_input": "2020-11-29T11:21:49.492212Z",
     "iopub.status.busy": "2020-11-29T11:21:49.490043Z",
     "iopub.status.idle": "2020-11-29T11:21:49.698009Z",
     "shell.execute_reply": "2020-11-29T11:21:49.696166Z"
    },
    "papermill": {
     "duration": 0.226727,
     "end_time": "2020-11-29T11:21:49.698152",
     "exception": false,
     "start_time": "2020-11-29T11:21:49.471425",
     "status": "completed"
    },
    "tags": []
   },
   "outputs": [
    {
     "data": {
      "text/plain": [
       "tf.Tensor(\n",
       "[[1 3 1 ... 3 1 1]\n",
       " [1 2 1 ... 2 3 2]\n",
       " [2 1 1 ... 3 2 2]\n",
       " ...\n",
       " [1 3 1 ... 1 2 2]\n",
       " [3 1 1 ... 1 2 2]\n",
       " [3 3 3 ... 3 1 1]], shape=(6791, 150), dtype=int64)"
      ]
     },
     "metadata": {},
     "output_type": "display_data"
    }
   ],
   "source": [
    "text_vectorization(train_data$x)"
   ]
  },
  {
   "cell_type": "code",
   "execution_count": 8,
   "metadata": {
    "execution": {
     "iopub.execute_input": "2020-11-29T11:21:49.734524Z",
     "iopub.status.busy": "2020-11-29T11:21:49.732761Z",
     "iopub.status.idle": "2020-11-29T11:21:50.330742Z",
     "shell.execute_reply": "2020-11-29T11:21:50.329396Z"
    },
    "papermill": {
     "duration": 0.616734,
     "end_time": "2020-11-29T11:21:50.330915",
     "exception": false,
     "start_time": "2020-11-29T11:21:49.714181",
     "status": "completed"
    },
    "tags": []
   },
   "outputs": [],
   "source": [
    "input <- layer_input(shape = c(1), dtype = 'string')\n",
    "\n",
    "output <- input %>% \n",
    "  text_vectorization() %>% \n",
    "  #layer_lambda(f = function(x){text_one_hot(text = x, n = 5)})\n",
    "  layer_embedding(input_dim = max_length, output_dim = 32) %>%\n",
    "  bidirectional(layer_gru(units = 64, return_sequences = TRUE)) %>%\n",
    "  bidirectional(layer_gru(units = 64, return_sequences = FALSE)) %>%\n",
    "  layer_dense(units = 32, activation = \"relu\") %>%\n",
    "  # layer_dropout(0.2) %>%\n",
    "  # layer_global_average_pooling_1d() %>%\n",
    "  layer_dense(units = 1, activation = \"sigmoid\")\n",
    "\n",
    "model <- keras_model(input, output)"
   ]
  },
  {
   "cell_type": "markdown",
   "metadata": {
    "papermill": {
     "duration": 0.015681,
     "end_time": "2020-11-29T11:21:50.362871",
     "exception": false,
     "start_time": "2020-11-29T11:21:50.347190",
     "status": "completed"
    },
    "tags": []
   },
   "source": [
    "Model"
   ]
  },
  {
   "cell_type": "code",
   "execution_count": 9,
   "metadata": {
    "execution": {
     "iopub.execute_input": "2020-11-29T11:21:50.400214Z",
     "iopub.status.busy": "2020-11-29T11:21:50.398534Z",
     "iopub.status.idle": "2020-11-29T11:21:50.409121Z",
     "shell.execute_reply": "2020-11-29T11:21:50.407667Z"
    },
    "papermill": {
     "duration": 0.029261,
     "end_time": "2020-11-29T11:21:50.409238",
     "exception": false,
     "start_time": "2020-11-29T11:21:50.379977",
     "status": "completed"
    },
    "tags": []
   },
   "outputs": [],
   "source": [
    "# model types\n",
    "## LSTM\n",
    "## Conv1D\n",
    "## bidirectional"
   ]
  },
  {
   "cell_type": "code",
   "execution_count": 10,
   "metadata": {
    "execution": {
     "iopub.execute_input": "2020-11-29T11:21:50.444201Z",
     "iopub.status.busy": "2020-11-29T11:21:50.442506Z",
     "iopub.status.idle": "2020-11-29T11:21:50.467860Z",
     "shell.execute_reply": "2020-11-29T11:21:50.466304Z"
    },
    "papermill": {
     "duration": 0.043837,
     "end_time": "2020-11-29T11:21:50.468012",
     "exception": false,
     "start_time": "2020-11-29T11:21:50.424175",
     "status": "completed"
    },
    "tags": []
   },
   "outputs": [],
   "source": [
    "## compile model\n",
    "model %>% compile(\n",
    "  optimizer = 'adam',#optimizer_adam(lr = 0.001),\n",
    "  loss = 'binary_crossentropy', #BinaryCrossentropy(from_logits=True)\n",
    "  metrics = list('accuracy') #BinaryAccuracy(threshold=0.0)\n",
    ")"
   ]
  },
  {
   "cell_type": "code",
   "execution_count": 11,
   "metadata": {
    "execution": {
     "iopub.execute_input": "2020-11-29T11:21:50.503522Z",
     "iopub.status.busy": "2020-11-29T11:21:50.501886Z",
     "iopub.status.idle": "2020-11-29T11:38:11.320705Z",
     "shell.execute_reply": "2020-11-29T11:38:11.314339Z"
    },
    "papermill": {
     "duration": 980.837512,
     "end_time": "2020-11-29T11:38:11.320960",
     "exception": false,
     "start_time": "2020-11-29T11:21:50.483448",
     "status": "completed"
    },
    "tags": []
   },
   "outputs": [],
   "source": [
    "m_epochs = 20\n",
    "m_batch_size = 256\n",
    "history <- model %>% fit(\n",
    "  train_data$x,\n",
    "  as.numeric(train_data$y == \"promoters\"),\n",
    "  epochs = m_epochs,\n",
    "  batch_size = m_batch_size,\n",
    "  #validation_split = 0.2,\n",
    "  validation_data = list(valid_data$x, as.numeric(valid_data$y == \"promoters\")),\n",
    "  verbose = 0,\n",
    ")"
   ]
  },
  {
   "cell_type": "code",
   "execution_count": 12,
   "metadata": {
    "execution": {
     "iopub.execute_input": "2020-11-29T11:38:11.417604Z",
     "iopub.status.busy": "2020-11-29T11:38:11.415823Z",
     "iopub.status.idle": "2020-11-29T11:38:11.439741Z",
     "shell.execute_reply": "2020-11-29T11:38:11.439364Z"
    },
    "papermill": {
     "duration": 0.094979,
     "end_time": "2020-11-29T11:38:11.439906",
     "exception": false,
     "start_time": "2020-11-29T11:38:11.344927",
     "status": "completed"
    },
    "tags": []
   },
   "outputs": [
    {
     "name": "stdout",
     "output_type": "stream",
     "text": [
      "Model: \"functional_1\"\n",
      "________________________________________________________________________________\n",
      "Layer (type)                        Output Shape                    Param #     \n",
      "================================================================================\n",
      "input_1 (InputLayer)                [(None, 1)]                     0           \n",
      "________________________________________________________________________________\n",
      "text_vectorization (TextVectorizati (None, 150)                     0           \n",
      "________________________________________________________________________________\n",
      "embedding (Embedding)               (None, 150, 32)                 4800        \n",
      "________________________________________________________________________________\n",
      "bidirectional (Bidirectional)       (None, 150, 128)                37248       \n",
      "________________________________________________________________________________\n",
      "bidirectional_1 (Bidirectional)     (None, 128)                     74112       \n",
      "________________________________________________________________________________\n",
      "dense (Dense)                       (None, 32)                      4128        \n",
      "________________________________________________________________________________\n",
      "dense_1 (Dense)                     (None, 1)                       33          \n",
      "================================================================================\n",
      "Total params: 120,321\n",
      "Trainable params: 120,321\n",
      "Non-trainable params: 0\n",
      "________________________________________________________________________________\n"
     ]
    }
   ],
   "source": [
    "summary(model)"
   ]
  },
  {
   "cell_type": "code",
   "execution_count": 13,
   "metadata": {
    "execution": {
     "iopub.execute_input": "2020-11-29T11:38:11.478252Z",
     "iopub.status.busy": "2020-11-29T11:38:11.476668Z",
     "iopub.status.idle": "2020-11-29T11:38:12.720903Z",
     "shell.execute_reply": "2020-11-29T11:38:12.721349Z"
    },
    "papermill": {
     "duration": 1.264471,
     "end_time": "2020-11-29T11:38:12.721546",
     "exception": false,
     "start_time": "2020-11-29T11:38:11.457075",
     "status": "completed"
    },
    "tags": []
   },
   "outputs": [
    {
     "data": {
      "text/plain": [
       "\n",
       "Final epoch (plot to see history):\n",
       "        loss: 0.4225\n",
       "    accuracy: 0.8114\n",
       "    val_loss: 0.4264\n",
       "val_accuracy: 0.8147 "
      ]
     },
     "metadata": {},
     "output_type": "display_data"
    },
    {
     "name": "stderr",
     "output_type": "stream",
     "text": [
      "`geom_smooth()` using formula 'y ~ x'\n",
      "\n"
     ]
    },
    {
     "data": {
      "image/png": "[encoded data removed]"
     },
     "metadata": {
      "image/png": {
       "height": 420,
       "width": 420
      }
     },
     "output_type": "display_data"
    }
   ],
   "source": [
    "history\n",
    "plot(history)"
   ]
  },
  {
   "cell_type": "code",
   "execution_count": 14,
   "metadata": {
    "execution": {
     "iopub.execute_input": "2020-11-29T11:38:12.765151Z",
     "iopub.status.busy": "2020-11-29T11:38:12.763601Z",
     "iopub.status.idle": "2020-11-29T11:38:35.987421Z",
     "shell.execute_reply": "2020-11-29T11:38:35.985872Z"
    },
    "papermill": {
     "duration": 23.246323,
     "end_time": "2020-11-29T11:38:35.987617",
     "exception": false,
     "start_time": "2020-11-29T11:38:12.741294",
     "status": "completed"
    },
    "tags": []
   },
   "outputs": [
    {
     "data": {
      "text/html": [
       "<style>\n",
       ".dl-inline {width: auto; margin:0; padding: 0}\n",
       ".dl-inline>dt, .dl-inline>dd {float: none; width: auto; display: inline-block}\n",
       ".dl-inline>dt::after {content: \":\\0020\"; padding-right: .5ex}\n",
       ".dl-inline>dt:not(:first-of-type) {padding-left: .5ex}\n",
       "</style><dl class=dl-inline><dt>loss</dt><dd>0.416564881801605</dd><dt>accuracy</dt><dd>0.810926198959351</dd></dl>\n"
      ],
      "text/latex": [
       "\\begin{description*}\n",
       "\\item[loss] 0.416564881801605\n",
       "\\item[accuracy] 0.810926198959351\n",
       "\\end{description*}\n"
      ],
      "text/markdown": [
       "loss\n",
       ":   0.416564881801605accuracy\n",
       ":   0.810926198959351\n",
       "\n"
      ],
      "text/plain": [
       "     loss  accuracy \n",
       "0.4165649 0.8109262 "
      ]
     },
     "metadata": {},
     "output_type": "display_data"
    }
   ],
   "source": [
    "model %>% evaluate(\n",
    "    train_data$x,\n",
    "    as.numeric(train_data$y == \"promoters\"),\n",
    "    verbose = 0\n",
    ")"
   ]
  }
 ],
 "metadata": {
  "kernelspec": {
   "display_name": "R",
   "language": "R",
   "name": "ir"
  },
  "language_info": {
   "codemirror_mode": "r",
   "file_extension": ".r",
   "mimetype": "text/x-r-source",
   "name": "R",
   "pygments_lexer": "r",
   "version": "3.6.3"
  },
  "papermill": {
   "default_parameters": {},
   "duration": 1031.29194,
   "end_time": "2020-11-29T11:38:38.264360",
   "environment_variables": {},
   "exception": null,
   "input_path": "__notebook__.ipynb",
   "output_path": "__notebook__.ipynb",
   "parameters": {},
   "start_time": "2020-11-29T11:21:26.972420",
   "version": "2.2.2"
  }
 },
 "nbformat": 4,
 "nbformat_minor": 4
}
